{
 "cells": [
  {
   "cell_type": "code",
   "execution_count": 1,
   "metadata": {},
   "outputs": [
    {
     "name": "stdout",
     "output_type": "stream",
     "text": [
      "5\n",
      "7\n",
      "Training data is as follows: \n",
      "    color toughness fungus appearance poisonous\n",
      "0   green      hard     no   wrinkled       yes\n",
      "1   green      hard    yes     smooth        no\n",
      "2   brown      soft     no   wrinkled        no\n",
      "3  orange      hard     no   wrinkled       yes\n",
      "4   green      soft    yes     smooth       yes\n",
      "5   green      hard    yes   wrinkled       yes\n",
      "6  orange      hard     no   wrinkled       yes\n",
      "\n",
      "The most general hypothesis: ['?', '?', '?', '?']\n",
      "\n",
      "The most specific hypothesis:  ['0', '0', '0', '0'] \n",
      "\n",
      "Positive samples are:  [['green', 'hard', 'no', 'wrinkled'], ['orange', 'hard', 'no', 'wrinkled'], ['green', 'soft', 'yes', 'smooth'], ['green', 'hard', 'yes', 'wrinkled'], ['orange', 'hard', 'no', 'wrinkled']]\n",
      "Negative samples are:  [['green', 'hard', 'yes', 'smooth'], ['brown', 'soft', 'no', 'wrinkled']]\n",
      "\n",
      "For training sample  0  the hypothesis is  ['green', 'hard', 'no', 'wrinkled']\n",
      "\n",
      "For training sample  1  the hypothesis is  ['?', 'hard', 'no', 'wrinkled']\n",
      "\n",
      "For training sample  2  the hypothesis is  ['?', '?', '?', '?']\n",
      "\n",
      "For training sample  3  the hypothesis is  ['?', '?', '?', '?']\n",
      "\n",
      "For training sample  4  the hypothesis is  ['?', '?', '?', '?']\n",
      "\n",
      " The maximally specific hypothesis for given training examples: \n",
      " ['?', '?', '?', '?']\n"
     ]
    }
   ],
   "source": [
    "import pandas as pd\n",
    "\n",
    "train = pd.read_csv('data.csv')\n",
    "\n",
    "cols = train.shape[1]\n",
    "rows = train.shape[0]\n",
    "print(cols)\n",
    "print(rows)\n",
    "\n",
    "print(\"Training data is as follows: \")\n",
    "print(train)\n",
    "print(\"\\nThe most general hypothesis: ['?', '?', '?', '?']\\n\")\n",
    "h = ['0', '0', '0', '0']\n",
    "print(\"The most specific hypothesis: \",h,\"\\n\")\n",
    "\n",
    "positivesample = []\n",
    "negativesample = []\n",
    "\n",
    "for i in range(rows):\n",
    "    s = []\n",
    "    s.append(train.color[i])\n",
    "    s.append(train.toughness[i])\n",
    "    s.append(train.fungus[i])\n",
    "    s.append(train.appearance[i])\n",
    "    if(train.poisonous[i]!='no'):\n",
    "        positivesample.append(s)\n",
    "    else:\n",
    "        negativesample.append(s)\n",
    "\n",
    "print(\"Positive samples are: \", positivesample)\n",
    "print(\"Negative samples are: \", negativesample)\n",
    "\n",
    "for i in range(len(positivesample)):\n",
    "    for j in range(cols-1):\n",
    "        if h[j] == '0':\n",
    "            h[j] = positivesample[i][j]\n",
    "        if h[j] != positivesample[i][j]:\n",
    "            h[j] = '?'\n",
    "        else:\n",
    "            h[j] = positivesample[i][j]\n",
    "    print(\"\\nFor training sample \", i, \" the hypothesis is \",h)\n",
    "\n",
    "print(\"\\nThe maximally specific hypothesis for given training examples: \\n\", h)"
   ]
  },
  {
   "cell_type": "code",
   "execution_count": null,
   "metadata": {},
   "outputs": [],
   "source": []
  }
 ],
 "metadata": {
  "kernelspec": {
   "display_name": "Python 3",
   "language": "python",
   "name": "python3"
  },
  "language_info": {
   "codemirror_mode": {
    "name": "ipython",
    "version": 3
   },
   "file_extension": ".py",
   "mimetype": "text/x-python",
   "name": "python",
   "nbconvert_exporter": "python",
   "pygments_lexer": "ipython3",
   "version": "3.7.7"
  }
 },
 "nbformat": 4,
 "nbformat_minor": 4
}
